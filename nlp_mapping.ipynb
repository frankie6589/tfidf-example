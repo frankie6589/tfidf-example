{
 "cells": [
  {
   "cell_type": "code",
   "execution_count": 16,
   "metadata": {},
   "outputs": [],
   "source": [
    "import pandas as pd\n",
    "import numpy as np\n"
   ]
  },
  {
   "cell_type": "code",
   "execution_count": null,
   "metadata": {},
   "outputs": [],
   "source": [
    "extra_attribute = pd.read_excel('/home/PDE_WTCTH_UDA.xlsx', sheet_name='WTCTH UDA',engine='openpyxl')\n",
    "print(extra_attribute)"
   ]
  },
  {
   "cell_type": "code",
   "execution_count": null,
   "metadata": {},
   "outputs": [],
   "source": [
    "raw_data = pd.read_csv('/home/raw_data.csv')\n",
    "raw_data['product_key'] = raw_data['product_key'].astype('str')\n",
    "raw_data['attribute_id'] = raw_data['attribute_id'].astype('str')\n",
    "print(raw_data)"
   ]
  },
  {
   "cell_type": "code",
   "execution_count": null,
   "metadata": {},
   "outputs": [],
   "source": [
    "all_product_details = pd.read_csv('/home/cluster.csv')\n",
    "print(all_product_details)"
   ]
  },
  {
   "cell_type": "code",
   "execution_count": null,
   "metadata": {},
   "outputs": [],
   "source": [
    "product_list = all_product_details['product_key'].tolist()\n",
    "print(product_list)"
   ]
  },
  {
   "cell_type": "code",
   "execution_count": null,
   "metadata": {},
   "outputs": [],
   "source": [
    "extra_attribute = extra_attribute[extra_attribute['product_key'].isin(product_list)]\n",
    "extra_attribute['product_key'] = extra_attribute['product_key'].astype('str')\n",
    "extra_attribute['attribute_id'] = extra_attribute['attribute_id'].astype('Int64')\n",
    "extra_attribute['attribute_id'] = extra_attribute['attribute_id'].astype('str')\n",
    "print(extra_attribute)"
   ]
  },
  {
   "cell_type": "code",
   "execution_count": null,
   "metadata": {},
   "outputs": [],
   "source": [
    "new_data=pd.merge(raw_data,extra_attribute, on=['product_key','attribute_id'],how=\"outer\",indicator=True)\n",
    "new_data=new_data[new_data['_merge']=='right_only']\n",
    "print(new_data)"
   ]
  },
  {
   "cell_type": "code",
   "execution_count": 28,
   "metadata": {},
   "outputs": [],
   "source": [
    "new_data.to_csv('/home/new_attribute_data.csv', index_label=False)"
   ]
  }
 ],
 "metadata": {
  "kernelspec": {
   "display_name": "Python 3.6.13 ('myenv')",
   "language": "python",
   "name": "python3"
  },
  "language_info": {
   "codemirror_mode": {
    "name": "ipython",
    "version": 3
   },
   "file_extension": ".py",
   "mimetype": "text/x-python",
   "name": "python",
   "nbconvert_exporter": "python",
   "pygments_lexer": "ipython3",
   "version": "3.6.13"
  },
  "orig_nbformat": 4,
  "vscode": {
   "interpreter": {
    "hash": "9564eaee7b2d18fff668db0d56d5be435fa415a0b75ee906b58019918c1dc466"
   }
  }
 },
 "nbformat": 4,
 "nbformat_minor": 2
}
