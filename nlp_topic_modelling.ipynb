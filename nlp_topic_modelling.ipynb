{
 "cells": [
  {
   "cell_type": "code",
   "execution_count": 53,
   "metadata": {},
   "outputs": [],
   "source": [
    "import numpy as np\n",
    "import pandas as pd\n",
    "import matplotlib.pyplot as plt\n",
    "import gensim\n",
    "from gensim.utils import simple_preprocess\n",
    "from gensim import corpora, models\n",
    "# import nltk\n",
    "from gensim.parsing.preprocessing import STOPWORDS\n",
    "# from nltk.stem import WordNetLemmatizer, SnowballStemmer\n",
    "# from nltk.stem.porter import *\n",
    "import re\n",
    "import spacy"
   ]
  },
  {
   "cell_type": "code",
   "execution_count": null,
   "metadata": {},
   "outputs": [],
   "source": [
    "# load csv to dataframe\n",
    "raw_data = pd.read_csv('/home/raw_data.csv')\n",
    "new_attriubute_data = pd.read_csv('/home/new_attribute_data.csv')\n",
    "new_attriubute_data = new_attriubute_data[['product_key', 'attribute_value_y']]\n",
    "new_attriubute_data.rename(columns={'attribute_value_y': 'attribute_value'}, inplace=True)\n",
    "print(new_attriubute_data)"
   ]
  },
  {
   "cell_type": "code",
   "execution_count": null,
   "metadata": {},
   "outputs": [],
   "source": [
    "# keep necessary data\n",
    "column_list = ['product_key', 'product_name', 'cluster', 'h1_l1_hierarchy_name','h1_l2_hierarchy_name','h1_l3_hierarchy_name', 'attribute_id', 'attribute_name', 'attribute_value']\n",
    "remove_attr_list = ['1007', '1009', '16', '27', '301', '303', '304', '305', '317', '32', '324', '35', '4', '42', '45', '49', '5', '518', '523', '526', '527', '528', '53', '530', '533', '549', '550', '6', '755', '764']\n",
    "\n",
    "raw_data = raw_data[raw_data['attribute_type'] == 'UDA']\n",
    "raw_data = raw_data[raw_data['attribute_name'] != 'NOT USE']\n",
    "raw_data = raw_data[column_list]\n",
    "raw_data = raw_data[~raw_data['attribute_id'].isin(remove_attr_list)]\n",
    "raw_data['attribute_value'] = raw_data['attribute_value'].astype('str')\n",
    "raw_data['product_key'] = raw_data['product_key'].astype('str')\n",
    "print(raw_data)\n",
    "raw_data = pd.concat([raw_data,new_attriubute_data])\n",
    "print(raw_data)"
   ]
  },
  {
   "cell_type": "code",
   "execution_count": null,
   "metadata": {},
   "outputs": [],
   "source": [
    "# example product: 101215\n",
    "raw_data_example = raw_data[raw_data['product_key'] == '101215']\n",
    "print(raw_data_example)\n",
    "print(raw_data_example.shape[0])"
   ]
  },
  {
   "cell_type": "code",
   "execution_count": null,
   "metadata": {},
   "outputs": [],
   "source": [
    "# aggergate attribute values\n",
    "df = raw_data.groupby(['product_key', 'product_name', 'cluster', 'h1_l1_hierarchy_name','h1_l2_hierarchy_name','h1_l3_hierarchy_name'], as_index=False).agg({'attribute_value': ' '.join})\n",
    "print(df)"
   ]
  },
  {
   "cell_type": "code",
   "execution_count": 58,
   "metadata": {},
   "outputs": [],
   "source": [
    "# load spacy english package\n",
    "nlp = spacy.load('en_core_web_sm')"
   ]
  },
  {
   "cell_type": "code",
   "execution_count": 60,
   "metadata": {},
   "outputs": [],
   "source": [
    "# stopword removal\n",
    "def preprocess(text):\n",
    "    result = []\n",
    "    temp = []\n",
    "    text = nlp(text)\n",
    "    for token in text:\n",
    "        temp.append(token.lemma_)\n",
    "    text = ' '.join(temp)\n",
    "    for token in simple_preprocess(text):\n",
    "        if token not in STOPWORDS and len(token) > 3 and token !='pron':\n",
    "            # result.append(lemmatize_stemming(token))\n",
    "            result.append(token)\n",
    "    return result\n",
    "\n",
    "# remove special characters and punctuation\n",
    "df['product_key'] = df['product_key'].astype('int')\n",
    "df['attribute_value'] = df['attribute_value'].apply(lambda x:re.sub(\"[^A-Za-z ]+\", \"\", x))\n",
    "df['attribute_value'] = df['attribute_value'].apply(lambda x:re.sub('\\s{2,}', ' ',  x))\n",
    "df['attribute_value'] = df['attribute_value'].apply(lambda x:preprocess(x))"
   ]
  },
  {
   "cell_type": "code",
   "execution_count": 61,
   "metadata": {},
   "outputs": [
    {
     "name": "stdout",
     "output_type": "stream",
     "text": [
      "<gensim.interfaces.TransformedCorpus object at 0x7fc71912d588>\n"
     ]
    }
   ],
   "source": [
    "# Train TFIDF model\n",
    "texts = df['attribute_value'].tolist()\n",
    "dictionary=corpora.Dictionary(texts)\n",
    "corpus = [dictionary.doc2bow(doc) for doc in texts]\n",
    "tfidf = models.TfidfModel(corpus)\n",
    "corpus_tfidf = tfidf[corpus]\n",
    "print(corpus_tfidf)"
   ]
  },
  {
   "cell_type": "code",
   "execution_count": null,
   "metadata": {},
   "outputs": [],
   "source": [
    "for i in range(10):\n",
    "    print(i, dictionary[i])\n",
    "print('\\n', 'Number of total words: ', len(dictionary), '\\n')\n",
    "\n",
    "for i in range(10):\n",
    "    print(i, dictionary.dfs[i])"
   ]
  },
  {
   "cell_type": "code",
   "execution_count": 63,
   "metadata": {},
   "outputs": [],
   "source": [
    "# map keyword from tfidf result\n",
    "result_list = []\n",
    "for doc in corpus_tfidf:\n",
    "    result_list.append([[dictionary[id], np.around(freq, decimals=3)] for id, freq in doc])"
   ]
  },
  {
   "cell_type": "code",
   "execution_count": null,
   "metadata": {},
   "outputs": [],
   "source": [
    "# consolidate result of keyword extraction\n",
    "from operator import itemgetter\n",
    "result_df = pd.DataFrame()\n",
    "result_df['keyword_list'] = pd.Series(result_list)\n",
    "result_df['keyword_list'] = result_df['keyword_list'].apply(lambda x: sorted(x, key=itemgetter(1), reverse=True))\n",
    "df = pd.concat([df, result_df], axis=1, ignore_index=True)\n",
    "print(df)"
   ]
  },
  {
   "cell_type": "code",
   "execution_count": null,
   "metadata": {},
   "outputs": [],
   "source": [
    "lda_model_tfidf = gensim.models.LdaMulticore(corpus_tfidf, num_topics=20, id2word=dictionary, passes=2, workers=4)\n",
    "for idx, topic in lda_model_tfidf.print_topics(-1):\n",
    "    print('Topic: {} Word: {}'.format(idx, topic))"
   ]
  }
 ],
 "metadata": {
  "kernelspec": {
   "display_name": "Python 3 (ipykernel)",
   "language": "python",
   "name": "python3"
  },
  "language_info": {
   "codemirror_mode": {
    "name": "ipython",
    "version": 3
   },
   "file_extension": ".py",
   "mimetype": "text/x-python",
   "name": "python",
   "nbconvert_exporter": "python",
   "pygments_lexer": "ipython3",
   "version": "3.6.13"
  },
  "vscode": {
   "interpreter": {
    "hash": "9564eaee7b2d18fff668db0d56d5be435fa415a0b75ee906b58019918c1dc466"
   }
  }
 },
 "nbformat": 4,
 "nbformat_minor": 2
}
